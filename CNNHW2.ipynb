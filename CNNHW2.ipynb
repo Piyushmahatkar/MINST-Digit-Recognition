{
 "cells": [
  {
   "cell_type": "code",
   "execution_count": 80,
   "metadata": {},
   "outputs": [],
   "source": [
    "import keras\n",
    "import tensorflow as tf\n",
    "from keras.datasets import mnist\n",
    "(X_tr, y_tr), (X_tst, y_tst) = mnist.load_data()"
   ]
  },
  {
   "cell_type": "code",
   "execution_count": 81,
   "metadata": {},
   "outputs": [],
   "source": [
    "from keras.models import Sequential\n",
    "from keras.layers import Conv2D, MaxPooling2D\n",
    "from keras.layers import Activation, Dropout, Flatten, Dense\n",
    "from keras.optimizers import Adam\n",
    "from keras.callbacks import TensorBoard"
   ]
  },
  {
   "cell_type": "code",
   "execution_count": 82,
   "metadata": {},
   "outputs": [],
   "source": [
    "X_tr = X_tr.reshape(-1, 28, 28, 1)"
   ]
  },
  {
   "cell_type": "code",
   "execution_count": 83,
   "metadata": {},
   "outputs": [],
   "source": [
    "X_tst = X_tst.reshape(-1, 28, 28, 1)\n",
    "InputShape = (28, 28, 1)"
   ]
  },
  {
   "cell_type": "code",
   "execution_count": 84,
   "metadata": {},
   "outputs": [],
   "source": [
    "X_tr = X_tr.astype('float32')\n",
    "X_tst = X_tst.astype('float32')"
   ]
  },
  {
   "cell_type": "code",
   "execution_count": 85,
   "metadata": {},
   "outputs": [],
   "source": [
    "X_tr /= 255\n",
    "X_tst /= 255"
   ]
  },
  {
   "cell_type": "code",
   "execution_count": 86,
   "metadata": {},
   "outputs": [
    {
     "name": "stdout",
     "output_type": "stream",
     "text": [
      "X_tr shape: (60000, 28, 28, 1)\n"
     ]
    }
   ],
   "source": [
    "print('X_tr shape:', X_tr.shape) "
   ]
  },
  {
   "cell_type": "code",
   "execution_count": 87,
   "metadata": {},
   "outputs": [
    {
     "name": "stdout",
     "output_type": "stream",
     "text": [
      "X_tst shape: (10000, 28, 28, 1)\n"
     ]
    }
   ],
   "source": [
    "print('X_tst shape:', X_tst.shape)"
   ]
  },
  {
   "cell_type": "code",
   "execution_count": 88,
   "metadata": {},
   "outputs": [],
   "source": [
    "num_category = 10"
   ]
  },
  {
   "cell_type": "code",
   "execution_count": 89,
   "metadata": {},
   "outputs": [],
   "source": [
    "y_tra = keras.utils.to_categorical(y_tr, num_category)\n",
    "y_tst = keras.utils.to_categorical(y_tst, num_category)"
   ]
  },
  {
   "cell_type": "code",
   "execution_count": 90,
   "metadata": {},
   "outputs": [],
   "source": [
    "MyModel = Sequential()"
   ]
  },
  {
   "cell_type": "code",
   "execution_count": 91,
   "metadata": {},
   "outputs": [],
   "source": [
    "MyModel.add(Conv2D(100, kernel_size=(7, 7), activation='relu', input_shape=InputShape))"
   ]
  },
  {
   "cell_type": "code",
   "execution_count": 92,
   "metadata": {},
   "outputs": [],
   "source": [
    "MyModel.add(Conv2D(10, (4, 4), activation='relu'))"
   ]
  },
  {
   "cell_type": "code",
   "execution_count": 93,
   "metadata": {},
   "outputs": [],
   "source": [
    "MyModel.add(MaxPooling2D(pool_size=(2, 2))) #keras adjusts the bias accordingly here"
   ]
  },
  {
   "cell_type": "code",
   "execution_count": 94,
   "metadata": {},
   "outputs": [],
   "source": [
    "MyModel.add(Dropout(0.25))"
   ]
  },
  {
   "cell_type": "code",
   "execution_count": 95,
   "metadata": {},
   "outputs": [],
   "source": [
    "MyModel.add(Flatten())"
   ]
  },
  {
   "cell_type": "code",
   "execution_count": 96,
   "metadata": {},
   "outputs": [],
   "source": [
    "MyModel.add(Dense(128, activation='relu'))"
   ]
  },
  {
   "cell_type": "code",
   "execution_count": 97,
   "metadata": {},
   "outputs": [],
   "source": [
    "MyModel.add(Dropout(0.5))"
   ]
  },
  {
   "cell_type": "code",
   "execution_count": 98,
   "metadata": {},
   "outputs": [],
   "source": [
    "MyModel.add(Dense(num_category, activation='softmax'))"
   ]
  },
  {
   "cell_type": "code",
   "execution_count": 99,
   "metadata": {},
   "outputs": [],
   "source": [
    "MyModel.compile(loss=keras.losses.categorical_crossentropy,\n",
    "              optimizer=keras.optimizers.Adadelta(),\n",
    "              metrics=['accuracy'])"
   ]
  },
  {
   "cell_type": "code",
   "execution_count": 100,
   "metadata": {},
   "outputs": [],
   "source": [
    "num_epoch = 5"
   ]
  },
  {
   "cell_type": "code",
   "execution_count": 77,
   "metadata": {},
   "outputs": [
    {
     "name": "stdout",
     "output_type": "stream",
     "text": [
      "Train on 60000 samples, validate on 10000 samples\n",
      "Epoch 1/5\n",
      "60000/60000 [==============================] - 284s 5ms/step - loss: 0.2938 - acc: 0.9091 - val_loss: 0.0697 - val_acc: 0.9788\n",
      "Epoch 2/5\n",
      "60000/60000 [==============================] - 269s 4ms/step - loss: 0.1135 - acc: 0.9664 - val_loss: 0.0433 - val_acc: 0.9856\n",
      "Epoch 3/5\n",
      "60000/60000 [==============================] - 272s 5ms/step - loss: 0.0845 - acc: 0.9745 - val_loss: 0.0349 - val_acc: 0.9880\n",
      "Epoch 4/5\n",
      "60000/60000 [==============================] - 422s 7ms/step - loss: 0.0714 - acc: 0.9793 - val_loss: 0.0299 - val_acc: 0.9900\n",
      "Epoch 5/5\n",
      "60000/60000 [==============================] - 360s 6ms/step - loss: 0.0620 - acc: 0.9820 - val_loss: 0.0273 - val_acc: 0.9904\n"
     ]
    }
   ],
   "source": [
    "model_log = MyModel.fit(X_tr, y_tr, batch_size=100, epochs=num_epoch, verbose=1, validation_data=(X_tst, y_tst))"
   ]
  }
 ],
 "metadata": {
  "kernelspec": {
   "display_name": "Python 3",
   "language": "python",
   "name": "python3"
  },
  "language_info": {
   "codemirror_mode": {
    "name": "ipython",
    "version": 3
   },
   "file_extension": ".py",
   "mimetype": "text/x-python",
   "name": "python",
   "nbconvert_exporter": "python",
   "pygments_lexer": "ipython3",
   "version": "3.6.4"
  }
 },
 "nbformat": 4,
 "nbformat_minor": 2
}
